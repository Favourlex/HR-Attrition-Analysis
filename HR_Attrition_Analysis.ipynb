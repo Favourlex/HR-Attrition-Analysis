{
 "cells": [
  {
   "cell_type": "markdown",
   "id": "45203963-b71c-45e2-8c61-1b93bb795fa4",
   "metadata": {},
   "source": [
    "# Employee Attrition Analysis - Indicino (PwC Consulting)\n",
    "\n",
    "### Author: FAVOUR EZEOFOR - Consulting Data Analyst, PwC  \n",
    "### Date: 30TH SEPTEMBER 2025 \n",
    "\n",
    "\n",
    "---\n",
    "## Objective\n",
    "#### Indicino (a digital payments company in Accra, Ghana) is facing a rising staff attrition problem. As the assigned Consulting Data Analyst, \n",
    "### my objectives are:\n",
    "\n",
    "#### - Identify root cause(s) of attrition at Indicino.  \n",
    "#### - Predict which job roles are most likely to resign within the current year and explain why.  \n",
    "#### - Identify age band(s) most likely to be retained.  \n",
    "#### - Determine whether length of stay with current manager affects attrition drivers.  \n",
    "#### - Provide insights on performance & rewards culture.  \n",
    "#### - Deliver clear, actionable recommendations and present results with charts.\n",
    "\n",
    "---\n",
    "# Project Overview\n",
    "#### 1. Data loading & initial checks : load dataset(s), inspect columns, missing values.  \n",
    "#### 2. Data cleaning & feature engineering : convert datatypes, create bins (age band), encode categories, derive tenure features.  \n",
    "#### 3. Exploratory Data Analysis (EDA) : attrition rates by role, age band, manager tenure, department, pay, satisfaction scores. Include charts and  key observations.  \n",
    "#### 4. Root cause analysis : correlation and subgroup analysis, pivot tables, hypothesis checks.  \n",
    "#### 5. Predictive modeling : prepare train/test sets, model selection (Logistic Regression, Random Forest, XGBoost), cross-validation, evaluate using ROC AUC, Precision@K, recall.  \n",
    "#### 6. Model interpretation : feature importance, SHAP or permutation importance, identify top predictors.  \n",
    "#### 7. Insights on performance & rewards : analysis of performance ratings vs attrition, salary/raise patterns, promotion and stock option effects.  \n",
    "#### 8. Recommendations : prioritized interventions, monitoring KPIs.  \n",
    "#### 9. Power BI dashboard export : export cleaned datasets & visuals for Power BI; include screenshots.  \n",
    "#### 10. Appendix : full code, SQL queries used, data dictionary.\n",
    "\n"
   ]
  },
  {
   "cell_type": "markdown",
   "id": "e70a676c-6125-462d-831e-7eacec62c3f1",
   "metadata": {},
   "source": [
    "# Dataset Description  \n",
    "## The dataset includes employee-level HR information with the following columns:  \n",
    "\n",
    "- **Age** – Employee’s age  \n",
    "- **Attrition** – Whether the employee has left (Yes/No)  \n",
    "- **BusinessTravel** – Frequency of work travel  \n",
    "- **DailyRate** – Daily wage rate  \n",
    "- **Department** – Employee’s department  \n",
    "- **DistanceFromHome** – Commute distance (in km/miles)  \n",
    "- **Education** – Education level (1–5 scale)  \n",
    "- **EducationField** – Field of study  \n",
    "- **EmployeeCount** – Employee count (constant)  \n",
    "- **EmployeeNumber** – Unique employee ID  \n",
    "- **EnvironmentSatisfaction** – Work environment satisfaction (1–5 scale)  \n",
    "- **Gender** – Employee’s gender  \n",
    "- **HourlyRate** – Hourly wage rate  \n",
    "- **JobInvolvement** – Involvement level in the job (1–4 scale)  \n",
    "- **JobLevel** – Job hierarchy level (1–5 scale)  \n",
    "- **JobRole** – Job title/role  \n",
    "- **JobSatisfaction** – Satisfaction with job (1–4 scale)  \n",
    "- **MaritalStatus** – Marital status (Single/Married/Divorced)  \n",
    "- **MonthlyIncome** – Monthly income  \n",
    "- **MonthlyRate** – Monthly salary rate  \n",
    "- **NumCompaniesWorked** – Previous companies worked for  \n",
    "- **Over18** – Whether the employee is over 18 (Yes)  \n",
    "- **OverTime** – Whether the employee works overtime (Yes/No)  \n",
    "- **PercentSalaryHike** – Salary increase percentage  \n",
    "- **PerformanceRating** – Performance score (1–4 scale)  \n",
    "- **RelationshipSatisfaction** – Satisfaction with work relationships (1–4 scale)  \n",
    "- **StandardHours** – Standard work hours (constant = 80)  \n",
    "- **StockOptionLevel** – Stock options granted (0–3)  \n",
    "- **TotalWorkingYears** – Total years of professional experience  \n",
    "- **TrainingTimesLastYear** – Number of trainings attended in the last year  \n",
    "- **WorkLifeBalance** – Work-life balance rating (1–4 scale)  \n",
    "- **YearsAtCompany** – Years spent in the company  \n",
    "- **YearsInCurrentRole** – Years spent in the current role  \n",
    "- **YearsSinceLastPromotion** – Years since last promotion  \n",
    "- **YearsWithCurrManager** – Years under current manager  \n",
    "\n",
    "### This dataset will be used to uncover attrition drivers and employee retention patterns.  "
   ]
  },
  {
   "cell_type": "code",
   "execution_count": 6,
   "id": "9aa11cfb-d0fb-42c3-b159-8926ecfeec1c",
   "metadata": {},
   "outputs": [],
   "source": [
    "# import\n",
    "import pandas as pd\n",
    "import numpy as np\n",
    "from sklearn.model_selection import train_test_split, GridSearchCV\n",
    "from sklearn.preprocessing import OneHotEncoder, StandardScaler\n",
    "from sklearn.compose import ColumnTransformer\n",
    "from sklearn.pipeline import Pipeline\n",
    "from sklearn.linear_model import LogisticRegression\n",
    "from sklearn.ensemble import RandomForestClassifier\n",
    "from sklearn.metrics import classification_report, roc_auc_score\n",
    "import matplotlib.pyplot as plt\n",
    "import seaborn as sns"
   ]
  },
  {
   "cell_type": "code",
   "execution_count": 8,
   "id": "209aa9b0-3fd8-42e2-b492-99b4f2de4966",
   "metadata": {},
   "outputs": [
    {
     "data": {
      "text/html": [
       "<div>\n",
       "<style scoped>\n",
       "    .dataframe tbody tr th:only-of-type {\n",
       "        vertical-align: middle;\n",
       "    }\n",
       "\n",
       "    .dataframe tbody tr th {\n",
       "        vertical-align: top;\n",
       "    }\n",
       "\n",
       "    .dataframe thead th {\n",
       "        text-align: right;\n",
       "    }\n",
       "</style>\n",
       "<table border=\"1\" class=\"dataframe\">\n",
       "  <thead>\n",
       "    <tr style=\"text-align: right;\">\n",
       "      <th></th>\n",
       "      <th>Age</th>\n",
       "      <th>Attrition</th>\n",
       "      <th>BusinessTravel</th>\n",
       "      <th>DailyRate</th>\n",
       "      <th>Department</th>\n",
       "      <th>DistanceFromHome</th>\n",
       "      <th>Education</th>\n",
       "      <th>EducationField</th>\n",
       "      <th>EmployeeCount</th>\n",
       "      <th>EmployeeNumber</th>\n",
       "      <th>...</th>\n",
       "      <th>RelationshipSatisfaction</th>\n",
       "      <th>StandardHours</th>\n",
       "      <th>StockOptionLevel</th>\n",
       "      <th>TotalWorkingYears</th>\n",
       "      <th>TrainingTimesLastYear</th>\n",
       "      <th>WorkLifeBalance</th>\n",
       "      <th>YearsAtCompany</th>\n",
       "      <th>YearsInCurrentRole</th>\n",
       "      <th>YearsSinceLastPromotion</th>\n",
       "      <th>YearsWithCurrManager</th>\n",
       "    </tr>\n",
       "  </thead>\n",
       "  <tbody>\n",
       "    <tr>\n",
       "      <th>0</th>\n",
       "      <td>41</td>\n",
       "      <td>Yes</td>\n",
       "      <td>Travel_Rarely</td>\n",
       "      <td>1102</td>\n",
       "      <td>Sales</td>\n",
       "      <td>1</td>\n",
       "      <td>2</td>\n",
       "      <td>Life Sciences</td>\n",
       "      <td>1</td>\n",
       "      <td>1</td>\n",
       "      <td>...</td>\n",
       "      <td>1</td>\n",
       "      <td>80</td>\n",
       "      <td>0</td>\n",
       "      <td>8</td>\n",
       "      <td>0</td>\n",
       "      <td>1</td>\n",
       "      <td>6</td>\n",
       "      <td>4</td>\n",
       "      <td>0</td>\n",
       "      <td>5</td>\n",
       "    </tr>\n",
       "    <tr>\n",
       "      <th>1</th>\n",
       "      <td>49</td>\n",
       "      <td>No</td>\n",
       "      <td>Travel_Frequently</td>\n",
       "      <td>279</td>\n",
       "      <td>Research &amp; Development</td>\n",
       "      <td>8</td>\n",
       "      <td>1</td>\n",
       "      <td>Life Sciences</td>\n",
       "      <td>1</td>\n",
       "      <td>2</td>\n",
       "      <td>...</td>\n",
       "      <td>4</td>\n",
       "      <td>80</td>\n",
       "      <td>1</td>\n",
       "      <td>10</td>\n",
       "      <td>3</td>\n",
       "      <td>3</td>\n",
       "      <td>10</td>\n",
       "      <td>7</td>\n",
       "      <td>1</td>\n",
       "      <td>7</td>\n",
       "    </tr>\n",
       "    <tr>\n",
       "      <th>2</th>\n",
       "      <td>37</td>\n",
       "      <td>Yes</td>\n",
       "      <td>Travel_Rarely</td>\n",
       "      <td>1373</td>\n",
       "      <td>Research &amp; Development</td>\n",
       "      <td>2</td>\n",
       "      <td>2</td>\n",
       "      <td>Other</td>\n",
       "      <td>1</td>\n",
       "      <td>4</td>\n",
       "      <td>...</td>\n",
       "      <td>2</td>\n",
       "      <td>80</td>\n",
       "      <td>0</td>\n",
       "      <td>7</td>\n",
       "      <td>3</td>\n",
       "      <td>3</td>\n",
       "      <td>0</td>\n",
       "      <td>0</td>\n",
       "      <td>0</td>\n",
       "      <td>0</td>\n",
       "    </tr>\n",
       "    <tr>\n",
       "      <th>3</th>\n",
       "      <td>33</td>\n",
       "      <td>No</td>\n",
       "      <td>Travel_Frequently</td>\n",
       "      <td>1392</td>\n",
       "      <td>Research &amp; Development</td>\n",
       "      <td>3</td>\n",
       "      <td>4</td>\n",
       "      <td>Life Sciences</td>\n",
       "      <td>1</td>\n",
       "      <td>5</td>\n",
       "      <td>...</td>\n",
       "      <td>3</td>\n",
       "      <td>80</td>\n",
       "      <td>0</td>\n",
       "      <td>8</td>\n",
       "      <td>3</td>\n",
       "      <td>3</td>\n",
       "      <td>8</td>\n",
       "      <td>7</td>\n",
       "      <td>3</td>\n",
       "      <td>0</td>\n",
       "    </tr>\n",
       "    <tr>\n",
       "      <th>4</th>\n",
       "      <td>27</td>\n",
       "      <td>No</td>\n",
       "      <td>Travel_Rarely</td>\n",
       "      <td>591</td>\n",
       "      <td>Research &amp; Development</td>\n",
       "      <td>2</td>\n",
       "      <td>1</td>\n",
       "      <td>Medical</td>\n",
       "      <td>1</td>\n",
       "      <td>7</td>\n",
       "      <td>...</td>\n",
       "      <td>4</td>\n",
       "      <td>80</td>\n",
       "      <td>1</td>\n",
       "      <td>6</td>\n",
       "      <td>3</td>\n",
       "      <td>3</td>\n",
       "      <td>2</td>\n",
       "      <td>2</td>\n",
       "      <td>2</td>\n",
       "      <td>2</td>\n",
       "    </tr>\n",
       "  </tbody>\n",
       "</table>\n",
       "<p>5 rows × 35 columns</p>\n",
       "</div>"
      ],
      "text/plain": [
       "   Age Attrition     BusinessTravel  DailyRate              Department  \\\n",
       "0   41       Yes      Travel_Rarely       1102                   Sales   \n",
       "1   49        No  Travel_Frequently        279  Research & Development   \n",
       "2   37       Yes      Travel_Rarely       1373  Research & Development   \n",
       "3   33        No  Travel_Frequently       1392  Research & Development   \n",
       "4   27        No      Travel_Rarely        591  Research & Development   \n",
       "\n",
       "   DistanceFromHome  Education EducationField  EmployeeCount  EmployeeNumber  \\\n",
       "0                 1          2  Life Sciences              1               1   \n",
       "1                 8          1  Life Sciences              1               2   \n",
       "2                 2          2          Other              1               4   \n",
       "3                 3          4  Life Sciences              1               5   \n",
       "4                 2          1        Medical              1               7   \n",
       "\n",
       "   ...  RelationshipSatisfaction StandardHours  StockOptionLevel  \\\n",
       "0  ...                         1            80                 0   \n",
       "1  ...                         4            80                 1   \n",
       "2  ...                         2            80                 0   \n",
       "3  ...                         3            80                 0   \n",
       "4  ...                         4            80                 1   \n",
       "\n",
       "  TotalWorkingYears  TrainingTimesLastYear WorkLifeBalance  YearsAtCompany  \\\n",
       "0                 8                      0               1               6   \n",
       "1                10                      3               3              10   \n",
       "2                 7                      3               3               0   \n",
       "3                 8                      3               3               8   \n",
       "4                 6                      3               3               2   \n",
       "\n",
       "  YearsInCurrentRole  YearsSinceLastPromotion  YearsWithCurrManager  \n",
       "0                  4                        0                     5  \n",
       "1                  7                        1                     7  \n",
       "2                  0                        0                     0  \n",
       "3                  7                        3                     0  \n",
       "4                  2                        2                     2  \n",
       "\n",
       "[5 rows x 35 columns]"
      ]
     },
     "execution_count": 8,
     "metadata": {},
     "output_type": "execute_result"
    }
   ],
   "source": [
    "# loading data\n",
    "\n",
    "df = pd.read_csv(r\"C:\\Users\\HP\\Downloads\\Indicino project.xlsx - Attrition_data.csv\")\n",
    "df.head()"
   ]
  },
  {
   "cell_type": "code",
   "execution_count": 3,
   "id": "eceb986a-52c8-4110-ac15-8044e9f0510a",
   "metadata": {},
   "outputs": [
    {
     "name": "stdout",
     "output_type": "stream",
     "text": [
      "<class 'pandas.core.frame.DataFrame'>\n",
      "RangeIndex: 1470 entries, 0 to 1469\n",
      "Data columns (total 35 columns):\n",
      " #   Column                    Non-Null Count  Dtype \n",
      "---  ------                    --------------  ----- \n",
      " 0   Age                       1470 non-null   int64 \n",
      " 1   Attrition                 1470 non-null   object\n",
      " 2   BusinessTravel            1470 non-null   object\n",
      " 3   DailyRate                 1470 non-null   int64 \n",
      " 4   Department                1470 non-null   object\n",
      " 5   DistanceFromHome          1470 non-null   int64 \n",
      " 6   Education                 1470 non-null   int64 \n",
      " 7   EducationField            1470 non-null   object\n",
      " 8   EmployeeCount             1470 non-null   int64 \n",
      " 9   EmployeeNumber            1470 non-null   int64 \n",
      " 10  EnvironmentSatisfaction   1470 non-null   int64 \n",
      " 11  Gender                    1470 non-null   object\n",
      " 12  HourlyRate                1470 non-null   int64 \n",
      " 13   JobInvolvement           1470 non-null   object\n",
      " 14  JobLevel                  1470 non-null   int64 \n",
      " 15  JobRole                   1470 non-null   object\n",
      " 16  JobSatisfaction           1470 non-null   int64 \n",
      " 17  MaritalStatus             1470 non-null   object\n",
      " 18  MonthlyIncome             1470 non-null   int64 \n",
      " 19  MonthlyRate               1470 non-null   int64 \n",
      " 20  NumCompaniesWorked        1470 non-null   int64 \n",
      " 21  Over18                    1470 non-null   object\n",
      " 22  OverTime                  1470 non-null   object\n",
      " 23  PercentSalaryHike         1470 non-null   int64 \n",
      " 24  PerformanceRating         1470 non-null   int64 \n",
      " 25  RelationshipSatisfaction  1470 non-null   int64 \n",
      " 26  StandardHours             1470 non-null   int64 \n",
      " 27  StockOptionLevel          1470 non-null   int64 \n",
      " 28  TotalWorkingYears         1470 non-null   int64 \n",
      " 29  TrainingTimesLastYear     1470 non-null   int64 \n",
      " 30  WorkLifeBalance           1470 non-null   int64 \n",
      " 31  YearsAtCompany            1470 non-null   int64 \n",
      " 32  YearsInCurrentRole        1470 non-null   int64 \n",
      " 33  YearsSinceLastPromotion   1470 non-null   int64 \n",
      " 34  YearsWithCurrManager      1470 non-null   int64 \n",
      "dtypes: int64(25), object(10)\n",
      "memory usage: 402.1+ KB\n"
     ]
    },
    {
     "data": {
      "text/plain": [
       "Age                        0\n",
       "Attrition                  0\n",
       "BusinessTravel             0\n",
       "DailyRate                  0\n",
       "Department                 0\n",
       "DistanceFromHome           0\n",
       "Education                  0\n",
       "EducationField             0\n",
       "EmployeeCount              0\n",
       "EmployeeNumber             0\n",
       "EnvironmentSatisfaction    0\n",
       "Gender                     0\n",
       "HourlyRate                 0\n",
       " JobInvolvement            0\n",
       "JobLevel                   0\n",
       "JobRole                    0\n",
       "JobSatisfaction            0\n",
       "MaritalStatus              0\n",
       "MonthlyIncome              0\n",
       "MonthlyRate                0\n",
       "dtype: int64"
      ]
     },
     "execution_count": 3,
     "metadata": {},
     "output_type": "execute_result"
    }
   ],
   "source": [
    "df.info()\n",
    "df.describe(include='all').T\n",
    "df.isna().sum().sort_values(ascending=False).head(20)"
   ]
  },
  {
   "cell_type": "code",
   "execution_count": 4,
   "id": "3f88a282-71f3-4f06-b3f4-9c23edaf92d9",
   "metadata": {},
   "outputs": [],
   "source": [
    "# clean column names\n",
    "df.columns = df.columns.str.strip()"
   ]
  },
  {
   "cell_type": "code",
   "execution_count": 5,
   "id": "d21f5684-4252-45c8-bf40-8b49db6767e0",
   "metadata": {},
   "outputs": [],
   "source": [
    "# Clean only if column is not already numeric\n",
    "cols_to_clean = [\"JobInvolvement\", \"JobLevel\", \"MonthlyIncome\", \"DailyRate\", \"HourlyRate\"]\n",
    "\n",
    "for col in cols_to_clean:\n",
    "    if df[col].dtype == \"object\":  # clean only text-like columns\n",
    "        df[col] = df[col].astype(str).str.replace(r'[^0-9]', '', regex=True).astype(int)\n"
   ]
  },
  {
   "cell_type": "code",
   "execution_count": 6,
   "id": "d556db6b-a095-4b07-80b9-7e6bdd74ef87",
   "metadata": {},
   "outputs": [],
   "source": [
    "# Ensuring Attrition mapping exists for later checks\n",
    "\n",
    "if 'attrition_flag' not in df.columns:\n",
    "    if 'Attrition' in df.columns:\n",
    "        df['attrition_flag'] = df['Attrition'].map({'Yes':1, 'No':0})\n",
    "    else:\n",
    "        raise KeyError(\"No 'Attrition' column found. Check column names.\")\n"
   ]
  },
  {
   "cell_type": "code",
   "execution_count": 7,
   "id": "ceb7e560-ba62-46a5-b1a8-e9258990a5af",
   "metadata": {},
   "outputs": [
    {
     "name": "stdout",
     "output_type": "stream",
     "text": [
      "count    1470.000000\n",
      "mean       36.923810\n",
      "std         9.135373\n",
      "min        18.000000\n",
      "25%        30.000000\n",
      "50%        36.000000\n",
      "75%        43.000000\n",
      "max        60.000000\n",
      "Name: Age, dtype: float64\n"
     ]
    }
   ],
   "source": [
    "# Quick age stats (inspecting before binning)\n",
    "\n",
    "print(df['Age'].describe())"
   ]
  },
  {
   "cell_type": "markdown",
   "id": "203d9526-ddf9-4699-9fe4-24ea7ecd3ad0",
   "metadata": {},
   "source": [
    "### Inspect Age Distribution\n",
    "\n",
    "Before i create age bands, it is best practice to inspect how ages are distributed in the dataset.  \n",
    "This ensures my bins reflect real employee clusters and are not arbitrary.  \n",
    "I will use both descriptive statistics (percentiles) and visualizations (histogram + boxplot).\n"
   ]
  },
  {
   "cell_type": "code",
   "execution_count": 8,
   "id": "9f10dc45-6af6-4b18-826b-dc70b9e8ae78",
   "metadata": {},
   "outputs": [
    {
     "name": "stdout",
     "output_type": "stream",
     "text": [
      "Quick Age Percentiles:\n",
      "\n",
      "count    1470.000000\n",
      "mean       36.923810\n",
      "std         9.135373\n",
      "min        18.000000\n",
      "5%         24.000000\n",
      "25%        30.000000\n",
      "50%        36.000000\n",
      "75%        43.000000\n",
      "95%        54.000000\n",
      "max        60.000000\n",
      "Name: Age, dtype: float64\n"
     ]
    }
   ],
   "source": [
    "# Inspect distribution of Age\n",
    "print(\"Quick Age Percentiles:\\n\")\n",
    "print(df['Age'].describe(percentiles=[0.05, 0.25, 0.5, 0.75, 0.95]))"
   ]
  },
  {
   "cell_type": "code",
   "execution_count": 9,
   "id": "fe124355-5bd1-48ef-a969-19d06751c075",
   "metadata": {},
   "outputs": [
    {
     "name": "stdout",
     "output_type": "stream",
     "text": [
      "\n",
      "Age Value Counts (top 10):\n",
      "\n",
      "Age\n",
      "18     8\n",
      "19     9\n",
      "20    11\n",
      "21    13\n",
      "22    16\n",
      "23    14\n",
      "24    26\n",
      "25    26\n",
      "26    39\n",
      "27    48\n",
      "Name: count, dtype: int64\n"
     ]
    }
   ],
   "source": [
    "# Frequency counts (to see how many employees per age)\n",
    "print(\"\\nAge Value Counts (top 10):\\n\")\n",
    "print(df['Age'].value_counts().sort_index().head(10))"
   ]
  },
  {
   "cell_type": "code",
   "execution_count": 10,
   "id": "90673a46-3314-4f85-88b1-fa710bf2a6b8",
   "metadata": {},
   "outputs": [],
   "source": [
    "# Creating meaningful age bands based on distribution\n",
    "\n",
    "# This helps simplify analysis and detect attrition trends by age group\n",
    "\n",
    "bins = [17, 24, 34, 44, 54, 60]  \n",
    "labels = ['18-24','25-34','35-44','45-54','55-60']  \n",
    "df['age_band'] = pd.cut(df['Age'], bins=bins, labels=labels, right=True)"
   ]
  },
  {
   "cell_type": "code",
   "execution_count": 11,
   "id": "790b7bdf-30b2-4f1e-85ea-0036f191fee7",
   "metadata": {},
   "outputs": [
    {
     "name": "stdout",
     "output_type": "stream",
     "text": [
      "age_band\n",
      "25-34    554\n",
      "35-44    505\n",
      "45-54    245\n",
      "18-24     97\n",
      "55-60     69\n",
      "Name: count, dtype: int64\n"
     ]
    }
   ],
   "source": [
    "# # Check distribution of new bands\n",
    "print(df['age_band'].value_counts())\n"
   ]
  },
  {
   "cell_type": "markdown",
   "id": "1fae9215-a1a7-417f-9040-81123cce8180",
   "metadata": {},
   "source": [
    "### Manager Tenure & Company Tenure Bins\n",
    "\n",
    "I will group employees into bins based on how long they have been with their current manager\n",
    "and how long they have been at the company. This helps detect patterns in attrition related\n",
    "to tenure and manager relationships.\n"
   ]
  },
  {
   "cell_type": "code",
   "execution_count": 12,
   "id": "249f18c7-dba7-49ed-905a-132ddcf7c224",
   "metadata": {},
   "outputs": [],
   "source": [
    "# Manager tenure bins\n",
    "df['manager_tenure_bin'] = pd.cut(df['YearsWithCurrManager'],\n",
    "                                  bins=[-1, 1, 3, 5, 100],\n",
    "                                  labels=['0-1','2-3','4-5','6+'])"
   ]
  },
  {
   "cell_type": "code",
   "execution_count": 13,
   "id": "efd93394-b28e-47f6-b917-9e95bb2a5c53",
   "metadata": {},
   "outputs": [],
   "source": [
    "# Tenure at company bins\n",
    "df['tenure_bin'] = pd.cut(df['YearsAtCompany'],\n",
    "                          bins=[-1, 1, 3, 5, 10, 100],\n",
    "                          labels=['0-1','2-3','4-5','6-10','10+'])\n"
   ]
  },
  {
   "cell_type": "code",
   "execution_count": 14,
   "id": "9566d52a-d705-4aaf-a624-f2661baa2fdb",
   "metadata": {},
   "outputs": [
    {
     "name": "stdout",
     "output_type": "stream",
     "text": [
      "Manager Tenure Bins:\n",
      " manager_tenure_bin\n",
      "6+     516\n",
      "2-3    486\n",
      "0-1    339\n",
      "4-5    129\n",
      "Name: count, dtype: int64\n",
      "\n",
      "Company Tenure Bins:\n",
      " tenure_bin\n",
      "6-10    448\n",
      "4-5     306\n",
      "2-3     255\n",
      "10+     246\n",
      "0-1     215\n",
      "Name: count, dtype: int64\n"
     ]
    }
   ],
   "source": [
    "# Quick checks - counting per bin\n",
    "print(\"Manager Tenure Bins:\\n\", df['manager_tenure_bin'].value_counts())\n",
    "print(\"\\nCompany Tenure Bins:\\n\", df['tenure_bin'].value_counts())"
   ]
  },
  {
   "cell_type": "code",
   "execution_count": 15,
   "id": "2ad2e7ef-8afe-43bb-b8ab-c4200527c215",
   "metadata": {},
   "outputs": [
    {
     "name": "stdout",
     "output_type": "stream",
     "text": [
      "\n",
      "Attrition % by Manager Tenure:\n",
      " manager_tenure_bin\n",
      "0-1    0.283\n",
      "2-3    0.142\n",
      "4-5    0.116\n",
      "6+     0.110\n",
      "Name: attrition_flag, dtype: float64\n",
      "\n",
      "Attrition % by Company Tenure:\n",
      " tenure_bin\n",
      "0-1     0.349\n",
      "2-3     0.184\n",
      "4-5     0.131\n",
      "6-10    0.123\n",
      "10+     0.081\n",
      "Name: attrition_flag, dtype: float64\n"
     ]
    }
   ],
   "source": [
    "# Attrition % per bin\n",
    "print(\"\\nAttrition % by Manager Tenure:\\n\", df.groupby('manager_tenure_bin', observed=True)['attrition_flag'].mean().round(3))\n",
    "print(\"\\nAttrition % by Company Tenure:\\n\", df.groupby('tenure_bin', observed=True)['attrition_flag'].mean().round(3))"
   ]
  },
  {
   "cell_type": "markdown",
   "id": "2a795e01-c2c7-4068-b5b5-14724636d17a",
   "metadata": {},
   "source": [
    "## Quick Engineering Flags\n",
    "\n",
    "I am creating additional binary flags to highlight potential attrition risks:\n",
    "- Employees working overtime\n",
    "- High income vs low income\n",
    "- Low satisfaction\n",
    "- Low salary hike\n",
    "- Recent promotions\n",
    "- Frequent job changes\n"
   ]
  },
  {
   "cell_type": "code",
   "execution_count": 16,
   "id": "514b7841-d969-4938-b3ec-cbeacb396d5f",
   "metadata": {},
   "outputs": [],
   "source": [
    "# 1. Overtime binary flag\n",
    "df['overtime_flag'] = df['OverTime'].map({'Yes':1, 'No':0})"
   ]
  },
  {
   "cell_type": "code",
   "execution_count": 17,
   "id": "11efa21d-888f-409d-9964-272102353e1c",
   "metadata": {},
   "outputs": [],
   "source": [
    "# 2. High income flag (above median)\n",
    "median_income = df['MonthlyIncome'].median()\n",
    "df['high_income_flag'] = (df['MonthlyIncome'] > median_income).astype(int)"
   ]
  },
  {
   "cell_type": "code",
   "execution_count": 18,
   "id": "08afc314-c59f-4aff-988f-e03d261d627c",
   "metadata": {},
   "outputs": [],
   "source": [
    "# 3. Low Job Satisfaction flag (1-5 scale, <=3 = low)\n",
    "df['low_job_satisfaction'] = (df['JobSatisfaction'] <= 3).astype(int)"
   ]
  },
  {
   "cell_type": "code",
   "execution_count": 19,
   "id": "76f38f2c-2ae7-4bd5-a832-a35172ae02b4",
   "metadata": {},
   "outputs": [],
   "source": [
    "# 4. Low Percent Salary Hike (below median)\n",
    "median_hike = df['PercentSalaryHike'].median()\n",
    "df['low_raise_flag'] = (df['PercentSalaryHike'] < median_hike).astype(int)"
   ]
  },
  {
   "cell_type": "code",
   "execution_count": 20,
   "id": "e6dd4149-e9a3-4849-b661-7a025c18b0fb",
   "metadata": {},
   "outputs": [],
   "source": [
    "# 5. Recent Promotion flag (promoted in last 2 years)\n",
    "df['recent_promotion_flag'] = (df['YearsSinceLastPromotion'] <= 2).astype(int)"
   ]
  },
  {
   "cell_type": "code",
   "execution_count": 21,
   "id": "4446bf6a-9ed7-48d5-8a18-29ab584b773b",
   "metadata": {},
   "outputs": [],
   "source": [
    "# 6. Frequent Job Hops flag (more than median number of previous companies)\n",
    "median_companies = df['NumCompaniesWorked'].median()\n",
    "df['frequent_job_hops_flag'] = (df['NumCompaniesWorked'] > median_companies).astype(int)"
   ]
  },
  {
   "cell_type": "code",
   "execution_count": 22,
   "id": "2166750b-5ebe-4faa-b87b-250dc4b08c33",
   "metadata": {},
   "outputs": [
    {
     "data": {
      "text/html": [
       "<div>\n",
       "<style scoped>\n",
       "    .dataframe tbody tr th:only-of-type {\n",
       "        vertical-align: middle;\n",
       "    }\n",
       "\n",
       "    .dataframe tbody tr th {\n",
       "        vertical-align: top;\n",
       "    }\n",
       "\n",
       "    .dataframe thead th {\n",
       "        text-align: right;\n",
       "    }\n",
       "</style>\n",
       "<table border=\"1\" class=\"dataframe\">\n",
       "  <thead>\n",
       "    <tr style=\"text-align: right;\">\n",
       "      <th></th>\n",
       "      <th>overtime_flag</th>\n",
       "      <th>high_income_flag</th>\n",
       "      <th>low_job_satisfaction</th>\n",
       "      <th>low_raise_flag</th>\n",
       "      <th>recent_promotion_flag</th>\n",
       "      <th>frequent_job_hops_flag</th>\n",
       "    </tr>\n",
       "  </thead>\n",
       "  <tbody>\n",
       "    <tr>\n",
       "      <th>0</th>\n",
       "      <td>1</td>\n",
       "      <td>1</td>\n",
       "      <td>0</td>\n",
       "      <td>1</td>\n",
       "      <td>1</td>\n",
       "      <td>1</td>\n",
       "    </tr>\n",
       "    <tr>\n",
       "      <th>1</th>\n",
       "      <td>0</td>\n",
       "      <td>1</td>\n",
       "      <td>1</td>\n",
       "      <td>0</td>\n",
       "      <td>1</td>\n",
       "      <td>0</td>\n",
       "    </tr>\n",
       "    <tr>\n",
       "      <th>2</th>\n",
       "      <td>1</td>\n",
       "      <td>0</td>\n",
       "      <td>1</td>\n",
       "      <td>0</td>\n",
       "      <td>1</td>\n",
       "      <td>1</td>\n",
       "    </tr>\n",
       "    <tr>\n",
       "      <th>3</th>\n",
       "      <td>1</td>\n",
       "      <td>0</td>\n",
       "      <td>1</td>\n",
       "      <td>1</td>\n",
       "      <td>0</td>\n",
       "      <td>0</td>\n",
       "    </tr>\n",
       "    <tr>\n",
       "      <th>4</th>\n",
       "      <td>0</td>\n",
       "      <td>0</td>\n",
       "      <td>1</td>\n",
       "      <td>1</td>\n",
       "      <td>1</td>\n",
       "      <td>1</td>\n",
       "    </tr>\n",
       "  </tbody>\n",
       "</table>\n",
       "</div>"
      ],
      "text/plain": [
       "   overtime_flag  high_income_flag  low_job_satisfaction  low_raise_flag  \\\n",
       "0              1                 1                     0               1   \n",
       "1              0                 1                     1               0   \n",
       "2              1                 0                     1               0   \n",
       "3              1                 0                     1               1   \n",
       "4              0                 0                     1               1   \n",
       "\n",
       "   recent_promotion_flag  frequent_job_hops_flag  \n",
       "0                      1                       1  \n",
       "1                      1                       0  \n",
       "2                      1                       1  \n",
       "3                      0                       0  \n",
       "4                      1                       1  "
      ]
     },
     "execution_count": 22,
     "metadata": {},
     "output_type": "execute_result"
    }
   ],
   "source": [
    "# Quick check: viewing first 5 rows\n",
    "\n",
    "df[['overtime_flag','high_income_flag','low_job_satisfaction',\n",
    "    'low_raise_flag','recent_promotion_flag','frequent_job_hops_flag']].head()"
   ]
  },
  {
   "cell_type": "markdown",
   "id": "c9c9f0fa-3552-4743-b8b5-45061b4de230",
   "metadata": {},
   "source": [
    "## Visual Checks - Attrition % by Feature\n",
    "\n",
    "To validate each engineered feature, i am computing the attrition percentage per group\n",
    "(e.g., by age_band, manager_tenure_bin, tenure_bin, and quick flags) and visualize\n",
    "the results. This shows which groups have higher risk of leaving the company.\n"
   ]
  },
  {
   "cell_type": "code",
   "execution_count": 23,
   "id": "b0d9f412-8088-4a86-b1fe-082eafc3e23c",
   "metadata": {},
   "outputs": [],
   "source": [
    "# Function to compute attrition percentage per column\n",
    "def attrition_percentage(df, col):\n",
    "    return df.groupby(col, observed=True)['attrition_flag'].mean() * 100\n"
   ]
  },
  {
   "cell_type": "code",
   "execution_count": 24,
   "id": "3369d4e6-8fdb-4968-8c57-c1e11cee7f8f",
   "metadata": {},
   "outputs": [
    {
     "data": {
      "text/plain": [
       "age_band\n",
       "18-24    39.175258\n",
       "25-34    20.216606\n",
       "35-44    10.099010\n",
       "45-54    10.204082\n",
       "55-60    15.942029\n",
       "Name: attrition_flag, dtype: float64"
      ]
     },
     "execution_count": 24,
     "metadata": {},
     "output_type": "execute_result"
    }
   ],
   "source": [
    "attrition_percentage(df, 'age_band')\n"
   ]
  },
  {
   "cell_type": "code",
   "execution_count": 25,
   "id": "2c7c3574-c093-48bc-97c1-a25a5e590145",
   "metadata": {},
   "outputs": [],
   "source": [
    "# Set style\n",
    "sns.set(style='whitegrid')\n"
   ]
  },
  {
   "cell_type": "code",
   "execution_count": 26,
   "id": "128030c7-1c9d-42eb-86f8-8c6b35526bec",
   "metadata": {},
   "outputs": [
    {
     "data": {
      "image/png": "[encoded data removed]",
      "text/plain": [
       "<Figure size 600x400 with 1 Axes>"
      ]
     },
     "metadata": {},
     "output_type": "display_data"
    }
   ],
   "source": [
    "# 1. Attrition % by Age Band\n",
    "plt.figure(figsize=(6,4))\n",
    "sns.barplot(x='age_band', y='attrition_flag', data=df, estimator=lambda x: 100*sum(x)/len(x))\n",
    "plt.ylabel('Attrition %')\n",
    "plt.title('Attrition % by Age Band')\n",
    "plt.show()\n"
   ]
  },
  {
   "cell_type": "markdown",
   "id": "6200a2d7-25c4-4c13-9cb5-95bed68af35a",
   "metadata": {},
   "source": [
    "## Age Band (age_band)\n",
    "\n",
    "Employees aged 18–24 have the highest attrition (~39%), indicating early-career churn is significant.\n",
    "\n",
    "Mid-career employees (35–54) show the lowest attrition (~10%), suggesting retention improves with experience."
   ]
  },
  {
   "cell_type": "code",
   "execution_count": 27,
   "id": "e1f76777-c5cc-4a81-9d4c-cf01b2806fc2",
   "metadata": {},
   "outputs": [
    {
     "data": {
      "image/png": "[encoded data removed]",
      "text/plain": [
       "<Figure size 600x400 with 1 Axes>"
      ]
     },
     "metadata": {},
     "output_type": "display_data"
    }
   ],
   "source": [
    "# 2. Attrition % by Manager Tenure\n",
    "plt.figure(figsize=(6,4))\n",
    "sns.barplot(x='manager_tenure_bin', y='attrition_flag', data=df, estimator=lambda x: 100*sum(x)/len(x))\n",
    "plt.ylabel('Attrition %')\n",
    "plt.title('Attrition % by Manager Tenure')\n",
    "plt.show()"
   ]
  },
  {
   "cell_type": "markdown",
   "id": "0be7eb53-9cba-4a9f-a16a-cca78f76ae39",
   "metadata": {},
   "source": [
    "## Manager Tenure (manager_tenure_bin)\n",
    "\n",
    "Employees with short manager tenure (0–1 years) have the highest attrition (~28%).\n",
    "\n",
    "Longer manager relationships (6+ years) correlate with lower attrition (~11%), highlighting the importance of stable management."
   ]
  },
  {
   "cell_type": "code",
   "execution_count": 28,
   "id": "f4bee7d8-ff0f-4218-bb06-19c7d7c03e4e",
   "metadata": {},
   "outputs": [
    {
     "data": {
      "image/png": "[encoded data removed]",
      "text/plain": [
       "<Figure size 600x400 with 1 Axes>"
      ]
     },
     "metadata": {},
     "output_type": "display_data"
    }
   ],
   "source": [
    "# 3. Attrition % by Company Tenure\n",
    "plt.figure(figsize=(6,4))\n",
    "sns.barplot(x='tenure_bin', y='attrition_flag', data=df, estimator=lambda x: 100*sum(x)/len(x))\n",
    "plt.ylabel('Attrition %')\n",
    "plt.title('Attrition % by Company Tenure')\n",
    "plt.show()"
   ]
  },
  {
   "cell_type": "markdown",
   "id": "72797166-a416-4ee4-acdc-83a604a3d2b0",
   "metadata": {},
   "source": [
    "## Company Tenure (tenure_bin)\n",
    "\n",
    "Employees with very short company tenure (0–1 years) show the highest attrition (~35%).\n",
    "\n",
    "Tenure beyond 10 years corresponds to the lowest attrition (~8%), indicating retention increases with experience."
   ]
  },
  {
   "cell_type": "code",
   "execution_count": 29,
   "id": "019d7831-08d5-4c76-90e0-8190958743fb",
   "metadata": {},
   "outputs": [
    {
     "data": {
      "image/png": "[encoded data removed]",
      "text/plain": [
       "<Figure size 500x300 with 1 Axes>"
      ]
     },
     "metadata": {},
     "output_type": "display_data"
    },
    {
     "data": {
      "image/png": "[encoded data removed]",
      "text/plain": [
       "<Figure size 500x300 with 1 Axes>"
      ]
     },
     "metadata": {},
     "output_type": "display_data"
    },
    {
     "data": {
      "image/png": "[encoded data removed]",
      "text/plain": [
       "<Figure size 500x300 with 1 Axes>"
      ]
     },
     "metadata": {},
     "output_type": "display_data"
    },
    {
     "data": {
      "image/png": "[encoded data removed]",
      "text/plain": [
       "<Figure size 500x300 with 1 Axes>"
      ]
     },
     "metadata": {},
     "output_type": "display_data"
    },
    {
     "data": {
      "image/png": "[encoded data removed]",
      "text/plain": [
       "<Figure size 500x300 with 1 Axes>"
      ]
     },
     "metadata": {},
     "output_type": "display_data"
    },
    {
     "data": {
      "image/png": "[encoded data removed]",
      "text/plain": [
       "<Figure size 500x300 with 1 Axes>"
      ]
     },
     "metadata": {},
     "output_type": "display_data"
    }
   ],
   "source": [
    "# 4. Attrition % by Quick Flags (loop through flags)\n",
    "quick_flags = ['overtime_flag','high_income_flag','low_job_satisfaction',\n",
    "               'low_raise_flag','recent_promotion_flag','frequent_job_hops_flag']\n",
    "\n",
    "for flag in quick_flags:\n",
    "    plt.figure(figsize=(5,3))\n",
    "    sns.barplot(x=flag, y='attrition_flag', data=df, estimator=lambda x: 100*sum(x)/len(x))\n",
    "    plt.ylabel('Attrition %')\n",
    "    plt.title(f'Attrition % by {flag}')\n",
    "    plt.show()"
   ]
  },
  {
   "cell_type": "markdown",
   "id": "4ce12678-9cdd-4746-bc2c-4040522c2d24",
   "metadata": {},
   "source": [
    "## Quick Flags\n",
    "\n",
    "### Overtime (overtime_flag)\n",
    "\n",
    "Employees working overtime (flag=1) have ~28% attrition versus ~11% for non-overtime employees.\n",
    "\n",
    "### High Income (high_income_flag)\n",
    "\n",
    "Employees earning above the median income show slightly higher attrition (~20%) than lower earners (~18%).\n",
    "\n",
    "### Low Job Satisfaction (low_job_satisfaction)\n",
    "\n",
    "Low job satisfaction (≤3) is strongly associated with higher attrition (~30%) compared to satisfied employees (~10%).\n",
    "\n",
    "### Low Raise (low_raise_flag)\n",
    "\n",
    "Employees receiving below-median salary hikes have higher attrition (~25%) than those with higher raises (~15%).\n",
    "\n",
    "### Recent Promotion (recent_promotion_flag)\n",
    "\n",
    "Employees promoted within the last 2 years show slightly higher attrition (~22%), possibly reflecting mobility or unmet expectations.\n",
    "\n",
    "### Frequent Job Hops (frequent_job_hops_flag)\n",
    "\n",
    "Employees with a history of frequent job changes have higher attrition (~27%) than more stable employees (~14%)."
   ]
  },
  {
   "cell_type": "markdown",
   "id": "2c5519b6-b975-4410-9dcf-717bbfac7d88",
   "metadata": {},
   "source": [
    "# Export Cleaned & Engineered Dataset\n",
    "The dataset has been fully cleaned, missing values handled, and features engineered\n",
    "(age bands, tenure bins, quick flags). This file is ready to be imported into Power BI\n",
    "or SQL for dashboard creation and further analysis.\n"
   ]
  },
  {
   "cell_type": "code",
   "execution_count": 9,
   "id": "e3869367-9635-4ce4-89ec-e6ceab37f0c4",
   "metadata": {},
   "outputs": [],
   "source": [
    "# saving cleaned csv \n",
    "df.to_csv(\"indicino_cleaned_engineered_v2.csv\", index=False)\n",
    "\n"
   ]
  },
  {
   "cell_type": "code",
   "execution_count": null,
   "id": "fde54849-53ac-4ac9-a40b-5a55fb56f3cb",
   "metadata": {},
   "outputs": [],
   "source": []
  }
 ],
 "metadata": {
  "kernelspec": {
   "display_name": "Python 3 (ipykernel)",
   "language": "python",
   "name": "python3"
  },
  "language_info": {
   "codemirror_mode": {
    "name": "ipython",
    "version": 3
   },
   "file_extension": ".py",
   "mimetype": "text/x-python",
   "name": "python",
   "nbconvert_exporter": "python",
   "pygments_lexer": "ipython3",
   "version": "3.13.7"
  }
 },
 "nbformat": 4,
 "nbformat_minor": 5
}
